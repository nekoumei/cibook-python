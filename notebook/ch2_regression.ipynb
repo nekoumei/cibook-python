{
 "cells": [
  {
   "cell_type": "code",
   "execution_count": 1,
   "metadata": {
    "ExecuteTime": {
     "end_time": "2021-09-11T07:56:40.768047Z",
     "start_time": "2021-09-11T07:56:40.241769Z"
    }
   },
   "outputs": [],
   "source": [
    "import pandas as pd\n",
    "import statsmodels.api as sm\n",
    "import joblib\n",
    "import os\n",
    "\n",
    "import warnings\n",
    "warnings.filterwarnings('ignore')"
   ]
  },
  {
   "cell_type": "markdown",
   "metadata": {},
   "source": [
    "## セレクションバイアスのあるデータの作成"
   ]
  },
  {
   "cell_type": "code",
   "execution_count": 2,
   "metadata": {
    "ExecuteTime": {
     "end_time": "2021-09-11T07:56:40.782505Z",
     "start_time": "2021-09-11T07:56:40.769286Z"
    }
   },
   "outputs": [],
   "source": [
    "dumped_male_df_path = '../data/male_df.joblib'\n",
    "dumped_biased_df_path = '../data/biased_df.joblib'\n",
    "\n",
    "if os.path.exists(dumped_male_df_path):\n",
    "    male_df = joblib.load(dumped_male_df_path)\n",
    "    biased_df = joblib.load(dumped_biased_df_path)\n",
    "else:\n",
    "    # セレクションバイアスのあるデータの作成\n",
    "    mail_df = pd.read_csv('http://www.minethatdata.com/Kevin_Hillstrom_MineThatData_E-MailAnalytics_DataMiningChallenge_2008.03.20.csv')\n",
    "    ### 女性向けメールが配信されたデータを削除したデータを作成\n",
    "    male_df = mail_df[mail_df.segment != 'Womens E-Mail'].copy() # 女性向けメールが配信されたデータを削除\n",
    "    male_df['treatment'] = male_df.segment.apply(lambda x: 1 if x == 'Mens E-Mail' else 0) #介入を表すtreatment変数を追加\n",
    "    ## バイアスのあるデータの作成\n",
    "    sample_rules = (male_df.history > 300) | (male_df.recency < 6) | (male_df.channel=='Multichannel')\n",
    "    biased_df = pd.concat([\n",
    "        male_df[(sample_rules) & (male_df.treatment == 0)].sample(frac=0.5, random_state=1),\n",
    "        male_df[(sample_rules) & (male_df.treatment == 1)],\n",
    "        male_df[(~sample_rules) & (male_df.treatment == 0)],\n",
    "        male_df[(~sample_rules) & (male_df.treatment == 1)].sample(frac=0.5, random_state=1)\n",
    "    ], axis=0, ignore_index=True)"
   ]
  },
  {
   "cell_type": "markdown",
   "metadata": {},
   "source": [
    "## (6) バイアスのあるデータでの回帰分析"
   ]
  },
  {
   "cell_type": "code",
   "execution_count": 3,
   "metadata": {
    "ExecuteTime": {
     "end_time": "2021-09-11T07:56:40.792254Z",
     "start_time": "2021-09-11T07:56:40.783479Z"
    }
   },
   "outputs": [],
   "source": [
    "## 回帰分析の実行\n",
    "y = biased_df.spend\n",
    "X = biased_df[['treatment', 'history']]\n",
    "X = sm.add_constant(X) # statsmodelsではβ0を明示的に入れてあげる必要がある\n",
    "model = sm.OLS(y, X)\n",
    "results = model.fit()"
   ]
  },
  {
   "cell_type": "code",
   "execution_count": 4,
   "metadata": {
    "ExecuteTime": {
     "end_time": "2021-09-11T07:56:40.825251Z",
     "start_time": "2021-09-11T07:56:40.796412Z"
    }
   },
   "outputs": [
    {
     "data": {
      "text/html": [
       "<table class=\"simpletable\">\n",
       "<caption>OLS Regression Results</caption>\n",
       "<tr>\n",
       "  <th>Dep. Variable:</th>          <td>spend</td>      <th>  R-squared:         </th>  <td>   0.001</td>  \n",
       "</tr>\n",
       "<tr>\n",
       "  <th>Model:</th>                   <td>OLS</td>       <th>  Adj. R-squared:    </th>  <td>   0.001</td>  \n",
       "</tr>\n",
       "<tr>\n",
       "  <th>Method:</th>             <td>Least Squares</td>  <th>  F-statistic:       </th>  <td>   20.45</td>  \n",
       "</tr>\n",
       "<tr>\n",
       "  <th>Date:</th>             <td>Sat, 11 Sep 2021</td> <th>  Prob (F-statistic):</th>  <td>1.32e-09</td>  \n",
       "</tr>\n",
       "<tr>\n",
       "  <th>Time:</th>                 <td>16:56:40</td>     <th>  Log-Likelihood:    </th> <td>-1.3312e+05</td>\n",
       "</tr>\n",
       "<tr>\n",
       "  <th>No. Observations:</th>      <td> 31925</td>      <th>  AIC:               </th>  <td>2.663e+05</td> \n",
       "</tr>\n",
       "<tr>\n",
       "  <th>Df Residuals:</th>          <td> 31922</td>      <th>  BIC:               </th>  <td>2.663e+05</td> \n",
       "</tr>\n",
       "<tr>\n",
       "  <th>Df Model:</th>              <td>     2</td>      <th>                     </th>      <td> </td>     \n",
       "</tr>\n",
       "<tr>\n",
       "  <th>Covariance Type:</th>      <td>nonrobust</td>    <th>                     </th>      <td> </td>     \n",
       "</tr>\n",
       "</table>\n",
       "<table class=\"simpletable\">\n",
       "<tr>\n",
       "      <td></td>         <th>coef</th>     <th>std err</th>      <th>t</th>      <th>P>|t|</th>  <th>[0.025</th>    <th>0.975]</th>  \n",
       "</tr>\n",
       "<tr>\n",
       "  <th>const</th>     <td>    0.3413</td> <td>    0.147</td> <td>    2.327</td> <td> 0.020</td> <td>    0.054</td> <td>    0.629</td>\n",
       "</tr>\n",
       "<tr>\n",
       "  <th>treatment</th> <td>    0.9088</td> <td>    0.177</td> <td>    5.122</td> <td> 0.000</td> <td>    0.561</td> <td>    1.257</td>\n",
       "</tr>\n",
       "<tr>\n",
       "  <th>history</th>   <td>    0.0011</td> <td>    0.000</td> <td>    3.096</td> <td> 0.002</td> <td>    0.000</td> <td>    0.002</td>\n",
       "</tr>\n",
       "</table>\n",
       "<table class=\"simpletable\">\n",
       "<tr>\n",
       "  <th>Omnibus:</th>       <td>70760.532</td> <th>  Durbin-Watson:     </th>   <td>   2.002</td>   \n",
       "</tr>\n",
       "<tr>\n",
       "  <th>Prob(Omnibus):</th>  <td> 0.000</td>   <th>  Jarque-Bera (JB):  </th> <td>352134568.791</td>\n",
       "</tr>\n",
       "<tr>\n",
       "  <th>Skew:</th>           <td>20.807</td>   <th>  Prob(JB):          </th>   <td>    0.00</td>   \n",
       "</tr>\n",
       "<tr>\n",
       "  <th>Kurtosis:</th>       <td>515.825</td>  <th>  Cond. No.          </th>   <td>    833.</td>   \n",
       "</tr>\n",
       "</table><br/><br/>Notes:<br/>[1] Standard Errors assume that the covariance matrix of the errors is correctly specified."
      ],
      "text/plain": [
       "<class 'statsmodels.iolib.summary.Summary'>\n",
       "\"\"\"\n",
       "                            OLS Regression Results                            \n",
       "==============================================================================\n",
       "Dep. Variable:                  spend   R-squared:                       0.001\n",
       "Model:                            OLS   Adj. R-squared:                  0.001\n",
       "Method:                 Least Squares   F-statistic:                     20.45\n",
       "Date:                Sat, 11 Sep 2021   Prob (F-statistic):           1.32e-09\n",
       "Time:                        16:56:40   Log-Likelihood:            -1.3312e+05\n",
       "No. Observations:               31925   AIC:                         2.663e+05\n",
       "Df Residuals:                   31922   BIC:                         2.663e+05\n",
       "Df Model:                           2                                         \n",
       "Covariance Type:            nonrobust                                         \n",
       "==============================================================================\n",
       "                 coef    std err          t      P>|t|      [0.025      0.975]\n",
       "------------------------------------------------------------------------------\n",
       "const          0.3413      0.147      2.327      0.020       0.054       0.629\n",
       "treatment      0.9088      0.177      5.122      0.000       0.561       1.257\n",
       "history        0.0011      0.000      3.096      0.002       0.000       0.002\n",
       "==============================================================================\n",
       "Omnibus:                    70760.532   Durbin-Watson:                   2.002\n",
       "Prob(Omnibus):                  0.000   Jarque-Bera (JB):        352134568.791\n",
       "Skew:                          20.807   Prob(JB):                         0.00\n",
       "Kurtosis:                     515.825   Cond. No.                         833.\n",
       "==============================================================================\n",
       "\n",
       "Notes:\n",
       "[1] Standard Errors assume that the covariance matrix of the errors is correctly specified.\n",
       "\"\"\""
      ]
     },
     "execution_count": 4,
     "metadata": {},
     "output_type": "execute_result"
    }
   ],
   "source": [
    "## 分析結果のレポート\n",
    "summary = results.summary()\n",
    "summary"
   ]
  },
  {
   "cell_type": "code",
   "execution_count": 5,
   "metadata": {
    "ExecuteTime": {
     "end_time": "2021-09-11T07:56:40.836611Z",
     "start_time": "2021-09-11T07:56:40.828565Z"
    }
   },
   "outputs": [
    {
     "data": {
      "text/html": [
       "<table class=\"simpletable\">\n",
       "<tr>\n",
       "      <td></td>         <th>coef</th>     <th>std err</th>      <th>t</th>      <th>P>|t|</th>  <th>[0.025</th>    <th>0.975]</th>  \n",
       "</tr>\n",
       "<tr>\n",
       "  <th>const</th>     <td>    0.3413</td> <td>    0.147</td> <td>    2.327</td> <td> 0.020</td> <td>    0.054</td> <td>    0.629</td>\n",
       "</tr>\n",
       "<tr>\n",
       "  <th>treatment</th> <td>    0.9088</td> <td>    0.177</td> <td>    5.122</td> <td> 0.000</td> <td>    0.561</td> <td>    1.257</td>\n",
       "</tr>\n",
       "<tr>\n",
       "  <th>history</th>   <td>    0.0011</td> <td>    0.000</td> <td>    3.096</td> <td> 0.002</td> <td>    0.000</td> <td>    0.002</td>\n",
       "</tr>\n",
       "</table>"
      ],
      "text/plain": [
       "<class 'statsmodels.iolib.table.SimpleTable'>"
      ]
     },
     "execution_count": 5,
     "metadata": {},
     "output_type": "execute_result"
    }
   ],
   "source": [
    "## 推定されたパラメーターの取り出し\n",
    "biased_reg_coef = summary.tables[1]\n",
    "biased_reg_coef"
   ]
  },
  {
   "cell_type": "markdown",
   "metadata": {},
   "source": [
    "## (7) RCTデータでの回帰分析とバイアスのあるデータでの回帰分析の比較"
   ]
  },
  {
   "cell_type": "code",
   "execution_count": 6,
   "metadata": {
    "ExecuteTime": {
     "end_time": "2021-09-11T07:56:40.862393Z",
     "start_time": "2021-09-11T07:56:40.840092Z"
    }
   },
   "outputs": [
    {
     "data": {
      "text/html": [
       "<table class=\"simpletable\">\n",
       "<tr>\n",
       "      <td></td>         <th>coef</th>     <th>std err</th>      <th>t</th>      <th>P>|t|</th>  <th>[0.025</th>    <th>0.975]</th>  \n",
       "</tr>\n",
       "<tr>\n",
       "  <th>const</th>     <td>    0.6528</td> <td>    0.103</td> <td>    6.356</td> <td> 0.000</td> <td>    0.451</td> <td>    0.854</td>\n",
       "</tr>\n",
       "<tr>\n",
       "  <th>treatment</th> <td>    0.7698</td> <td>    0.145</td> <td>    5.300</td> <td> 0.000</td> <td>    0.485</td> <td>    1.055</td>\n",
       "</tr>\n",
       "</table>"
      ],
      "text/plain": [
       "<class 'statsmodels.iolib.table.SimpleTable'>"
      ]
     },
     "execution_count": 6,
     "metadata": {},
     "output_type": "execute_result"
    }
   ],
   "source": [
    "## RCTデータでの単回帰\n",
    "y = male_df.spend\n",
    "X = male_df[['treatment']]\n",
    "X = sm.add_constant(X)\n",
    "results = sm.OLS(y, X).fit()\n",
    "rct_reg_coef = results.summary().tables[1]\n",
    "rct_reg_coef"
   ]
  },
  {
   "cell_type": "code",
   "execution_count": 7,
   "metadata": {
    "ExecuteTime": {
     "end_time": "2021-09-11T07:56:40.885424Z",
     "start_time": "2021-09-11T07:56:40.865902Z"
    }
   },
   "outputs": [
    {
     "data": {
      "text/html": [
       "<table class=\"simpletable\">\n",
       "<tr>\n",
       "      <td></td>         <th>coef</th>     <th>std err</th>      <th>t</th>      <th>P>|t|</th>  <th>[0.025</th>    <th>0.975]</th>  \n",
       "</tr>\n",
       "<tr>\n",
       "  <th>const</th>     <td>    0.5580</td> <td>    0.129</td> <td>    4.328</td> <td> 0.000</td> <td>    0.305</td> <td>    0.811</td>\n",
       "</tr>\n",
       "<tr>\n",
       "  <th>treatment</th> <td>    0.9837</td> <td>    0.176</td> <td>    5.596</td> <td> 0.000</td> <td>    0.639</td> <td>    1.328</td>\n",
       "</tr>\n",
       "</table>"
      ],
      "text/plain": [
       "<class 'statsmodels.iolib.table.SimpleTable'>"
      ]
     },
     "execution_count": 7,
     "metadata": {},
     "output_type": "execute_result"
    }
   ],
   "source": [
    "## バイアスのあるデータでの単回帰\n",
    "y = biased_df.spend\n",
    "X = biased_df[['treatment']]\n",
    "X = sm.add_constant(X)\n",
    "results = sm.OLS(y, X).fit()\n",
    "nonrct_reg_coef = results.summary().tables[1]\n",
    "nonrct_reg_coef"
   ]
  },
  {
   "cell_type": "code",
   "execution_count": 8,
   "metadata": {
    "ExecuteTime": {
     "end_time": "2021-09-11T07:56:40.925121Z",
     "start_time": "2021-09-11T07:56:40.889005Z"
    },
    "scrolled": true
   },
   "outputs": [
    {
     "data": {
      "text/html": [
       "<table class=\"simpletable\">\n",
       "<tr>\n",
       "        <td></td>           <th>coef</th>     <th>std err</th>      <th>t</th>      <th>P>|t|</th>  <th>[0.025</th>    <th>0.975]</th>  \n",
       "</tr>\n",
       "<tr>\n",
       "  <th>const</th>         <td>    0.4761</td> <td>    0.386</td> <td>    1.233</td> <td> 0.218</td> <td>   -0.281</td> <td>    1.233</td>\n",
       "</tr>\n",
       "<tr>\n",
       "  <th>treatment</th>     <td>    0.8617</td> <td>    0.181</td> <td>    4.750</td> <td> 0.000</td> <td>    0.506</td> <td>    1.217</td>\n",
       "</tr>\n",
       "<tr>\n",
       "  <th>recency</th>       <td>   -0.0361</td> <td>    0.026</td> <td>   -1.372</td> <td> 0.170</td> <td>   -0.088</td> <td>    0.015</td>\n",
       "</tr>\n",
       "<tr>\n",
       "  <th>history</th>       <td>    0.0010</td> <td>    0.000</td> <td>    2.655</td> <td> 0.008</td> <td>    0.000</td> <td>    0.002</td>\n",
       "</tr>\n",
       "<tr>\n",
       "  <th>channel_Phone</th> <td>   -0.0079</td> <td>    0.310</td> <td>   -0.025</td> <td> 0.980</td> <td>   -0.616</td> <td>    0.600</td>\n",
       "</tr>\n",
       "<tr>\n",
       "  <th>channel_Web</th>   <td>    0.2540</td> <td>    0.310</td> <td>    0.820</td> <td> 0.412</td> <td>   -0.353</td> <td>    0.861</td>\n",
       "</tr>\n",
       "</table>"
      ],
      "text/plain": [
       "<class 'statsmodels.iolib.table.SimpleTable'>"
      ]
     },
     "execution_count": 8,
     "metadata": {},
     "output_type": "execute_result"
    }
   ],
   "source": [
    "## バイアスのあるデータでの重回帰\n",
    "y = biased_df.spend\n",
    "# R lmではカテゴリ変数は自動的にダミー変数化されているのでそれを再現\n",
    "X = pd.get_dummies(biased_df[['treatment', 'recency', 'channel', 'history']], columns=['channel'], drop_first=True)\n",
    "X = sm.add_constant(X)\n",
    "results = sm.OLS(y, X).fit()\n",
    "nonrct_mreg_coef = results.summary().tables[1]\n",
    "nonrct_mreg_coef"
   ]
  },
  {
   "cell_type": "markdown",
   "metadata": {},
   "source": [
    "## (8) OVBの確認"
   ]
  },
  {
   "cell_type": "code",
   "execution_count": 9,
   "metadata": {
    "ExecuteTime": {
     "end_time": "2021-09-11T07:56:40.976432Z",
     "start_time": "2021-09-11T07:56:40.930135Z"
    }
   },
   "outputs": [],
   "source": [
    "## (a) history抜きの回帰分析とパラメーターの取り出し\n",
    "y = biased_df.spend\n",
    "X = pd.get_dummies(biased_df[['treatment', 'recency', 'channel']], columns=['channel'], drop_first=True)\n",
    "X = sm.add_constant(X)\n",
    "results = sm.OLS(y, X).fit()\n",
    "short_coef = results.summary().tables[1]\n",
    "short_coef_df = pd.read_html(short_coef.as_html(), header=0, index_col=0)[0] #SimpleTableは扱いなれてないのでpandas DataFrameにする\n",
    "\n",
    "## aの結果から介入効果に関するパラメーターのみを取り出す\n",
    "alpha_1 = results.params['treatment'] # summaryのデータは小数点が四捨五入されているため、正確な値をとってくる\n"
   ]
  },
  {
   "cell_type": "code",
   "execution_count": 10,
   "metadata": {
    "ExecuteTime": {
     "end_time": "2021-09-11T07:56:41.018240Z",
     "start_time": "2021-09-11T07:56:40.982827Z"
    }
   },
   "outputs": [],
   "source": [
    "## (b) historyを追加した回帰分析とパラメーターの取り出し\n",
    "y = biased_df.spend\n",
    "X = pd.get_dummies(biased_df[['treatment', 'recency', 'channel', 'history']], columns=['channel'], drop_first=True)\n",
    "X = sm.add_constant(X)\n",
    "results = sm.OLS(y, X).fit()\n",
    "long_coef = results.summary().tables[1]\n",
    "long_coef_df = pd.read_html(long_coef.as_html(), header=0, index_col=0)[0] #SimpleTableは扱いなれてないのでpandas DataFrameにする\n",
    "\n",
    "## bの結果から介入とhistoryに関するパラメーターを取り出す\n",
    "beta_1 = results.params['treatment']\n",
    "beta_2 = results.params['history']"
   ]
  },
  {
   "cell_type": "code",
   "execution_count": 11,
   "metadata": {
    "ExecuteTime": {
     "end_time": "2021-09-11T07:56:41.055593Z",
     "start_time": "2021-09-11T07:56:41.023618Z"
    }
   },
   "outputs": [],
   "source": [
    "## (c) 脱落した変数と介入変数での回帰分析\n",
    "y = biased_df.history\n",
    "X = pd.get_dummies(biased_df[['treatment', 'recency', 'channel']], columns=['channel'], drop_first=True)\n",
    "X = sm.add_constant(X)\n",
    "results = sm.OLS(y, X).fit()\n",
    "omitted_coef = results.summary().tables[1]\n",
    "omitted_coef_df = pd.read_html(omitted_coef.as_html(), header=0, index_col=0)[0] #SimpleTableは扱いなれてないのでpandas DataFrameにする\n",
    "gamma_1 = results.params['treatment']"
   ]
  },
  {
   "cell_type": "code",
   "execution_count": 12,
   "metadata": {
    "ExecuteTime": {
     "end_time": "2021-09-11T07:56:41.067240Z",
     "start_time": "2021-09-11T07:56:41.061048Z"
    }
   },
   "outputs": [
    {
     "name": "stdout",
     "output_type": "stream",
     "text": [
      "0.028816423676830048\n",
      "0.028816423676825798\n"
     ]
    }
   ],
   "source": [
    "## OVBの確認\n",
    "print(beta_2 * gamma_1)\n",
    "print(alpha_1 - beta_1)"
   ]
  },
  {
   "cell_type": "markdown",
   "metadata": {},
   "source": [
    "## (10) 入れてはいけない変数を入れてみる"
   ]
  },
  {
   "cell_type": "code",
   "execution_count": 13,
   "metadata": {
    "ExecuteTime": {
     "end_time": "2021-09-11T07:56:41.104470Z",
     "start_time": "2021-09-11T07:56:41.072126Z"
    }
   },
   "outputs": [
    {
     "data": {
      "text/html": [
       "<table class=\"simpletable\">\n",
       "<tr>\n",
       "        <td></td>           <th>coef</th>     <th>std err</th>      <th>t</th>      <th>P>|t|</th>  <th>[0.025</th>    <th>0.975]</th>  \n",
       "</tr>\n",
       "<tr>\n",
       "  <th>const</th>         <td>    0.7153</td> <td>    0.011</td> <td>   63.968</td> <td> 0.000</td> <td>    0.693</td> <td>    0.737</td>\n",
       "</tr>\n",
       "<tr>\n",
       "  <th>visit</th>         <td>    0.1509</td> <td>    0.008</td> <td>   19.820</td> <td> 0.000</td> <td>    0.136</td> <td>    0.166</td>\n",
       "</tr>\n",
       "<tr>\n",
       "  <th>recency</th>       <td>   -0.0282</td> <td>    0.001</td> <td>  -35.621</td> <td> 0.000</td> <td>   -0.030</td> <td>   -0.027</td>\n",
       "</tr>\n",
       "<tr>\n",
       "  <th>history</th>       <td>    0.0001</td> <td> 1.17e-05</td> <td>    9.705</td> <td> 0.000</td> <td> 9.06e-05</td> <td>    0.000</td>\n",
       "</tr>\n",
       "<tr>\n",
       "  <th>channel_Phone</th> <td>   -0.0708</td> <td>    0.009</td> <td>   -7.453</td> <td> 0.000</td> <td>   -0.089</td> <td>   -0.052</td>\n",
       "</tr>\n",
       "<tr>\n",
       "  <th>channel_Web</th>   <td>   -0.0771</td> <td>    0.009</td> <td>   -8.131</td> <td> 0.000</td> <td>   -0.096</td> <td>   -0.059</td>\n",
       "</tr>\n",
       "</table>"
      ],
      "text/plain": [
       "<class 'statsmodels.iolib.table.SimpleTable'>"
      ]
     },
     "execution_count": 13,
     "metadata": {},
     "output_type": "execute_result"
    }
   ],
   "source": [
    "## visitとtreatmentの相関\n",
    "y = biased_df.treatment\n",
    "X = pd.get_dummies(biased_df[['visit', 'channel', 'recency', 'history']], columns=['channel'], drop_first=True)\n",
    "X = sm.add_constant(X)\n",
    "results = sm.OLS(y, X).fit()\n",
    "results.summary().tables[1]"
   ]
  },
  {
   "cell_type": "code",
   "execution_count": 14,
   "metadata": {
    "ExecuteTime": {
     "end_time": "2021-09-11T07:56:41.147546Z",
     "start_time": "2021-09-11T07:56:41.109560Z"
    }
   },
   "outputs": [
    {
     "data": {
      "text/html": [
       "<table class=\"simpletable\">\n",
       "<tr>\n",
       "        <td></td>           <th>coef</th>     <th>std err</th>      <th>t</th>      <th>P>|t|</th>  <th>[0.025</th>    <th>0.975]</th>  \n",
       "</tr>\n",
       "<tr>\n",
       "  <th>const</th>         <td>   -0.4057</td> <td>    0.382</td> <td>   -1.062</td> <td> 0.288</td> <td>   -1.155</td> <td>    0.343</td>\n",
       "</tr>\n",
       "<tr>\n",
       "  <th>treatment</th>     <td>    0.2784</td> <td>    0.180</td> <td>    1.546</td> <td> 0.122</td> <td>   -0.075</td> <td>    0.631</td>\n",
       "</tr>\n",
       "<tr>\n",
       "  <th>recency</th>       <td>    0.0090</td> <td>    0.026</td> <td>    0.346</td> <td> 0.729</td> <td>   -0.042</td> <td>    0.060</td>\n",
       "</tr>\n",
       "<tr>\n",
       "  <th>history</th>       <td>    0.0005</td> <td>    0.000</td> <td>    1.316</td> <td> 0.188</td> <td>   -0.000</td> <td>    0.001</td>\n",
       "</tr>\n",
       "<tr>\n",
       "  <th>visit</th>         <td>    7.2368</td> <td>    0.246</td> <td>   29.368</td> <td> 0.000</td> <td>    6.754</td> <td>    7.720</td>\n",
       "</tr>\n",
       "<tr>\n",
       "  <th>channel_Phone</th> <td>    0.0978</td> <td>    0.306</td> <td>    0.320</td> <td> 0.749</td> <td>   -0.502</td> <td>    0.697</td>\n",
       "</tr>\n",
       "<tr>\n",
       "  <th>channel_Web</th>   <td>    0.1160</td> <td>    0.306</td> <td>    0.380</td> <td> 0.704</td> <td>   -0.483</td> <td>    0.715</td>\n",
       "</tr>\n",
       "</table>"
      ],
      "text/plain": [
       "<class 'statsmodels.iolib.table.SimpleTable'>"
      ]
     },
     "execution_count": 14,
     "metadata": {},
     "output_type": "execute_result"
    }
   ],
   "source": [
    "# visitを入れた回帰分析を実行\n",
    "y = biased_df.spend\n",
    "X = pd.get_dummies(biased_df[['treatment', 'channel', 'recency', 'history', 'visit']], columns=['channel'], drop_first=True)\n",
    "X = sm.add_constant(X)\n",
    "results = sm.OLS(y, X).fit()\n",
    "results.summary().tables[1]"
   ]
  }
 ],
 "metadata": {
  "kernelspec": {
   "display_name": "Python 3 (ipykernel)",
   "language": "python",
   "name": "python3"
  },
  "language_info": {
   "codemirror_mode": {
    "name": "ipython",
    "version": 3
   },
   "file_extension": ".py",
   "mimetype": "text/x-python",
   "name": "python",
   "nbconvert_exporter": "python",
   "pygments_lexer": "ipython3",
   "version": "3.7.4"
  }
 },
 "nbformat": 4,
 "nbformat_minor": 2
}
